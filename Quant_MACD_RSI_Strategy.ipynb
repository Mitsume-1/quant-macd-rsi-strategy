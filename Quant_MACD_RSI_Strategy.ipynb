{
 "cells": [
  {
   "cell_type": "markdown",
   "id": "cfb4f78a",
   "metadata": {},
   "source": [
    "# MACD + RSI Quant Strategy\n",
    "This notebook implements a long-only strategy using MACD (momentum) and RSI (mean-reversion) signals on QQQ historical data."
   ]
  },
  {
   "cell_type": "markdown",
   "id": "77e4722f",
   "metadata": {},
   "source": [
    "## Load QQQ data from local CSV"
   ]
  },
  {
   "cell_type": "code",
   "execution_count": null,
   "id": "2461aa13",
   "metadata": {},
   "outputs": [],
   "source": [
    "import pandas as pd\n",
    "import numpy as np\n",
    "import matplotlib.pyplot as plt\n",
    "import matplotlib.dates as mdates\n",
    "import os\n",
    "\n",
    "# Create image folder if not exists\n",
    "os.makedirs(\"img\", exist_ok=True)\n",
    "\n",
    "# Load CSV\n",
    "data = pd.read_csv(\"QQQ_2019_2021.csv\", index_col=0, parse_dates=True)\n",
    "data.head()"
   ]
  },
  {
   "cell_type": "markdown",
   "id": "3fe2cfd1",
   "metadata": {},
   "source": [
    "## Calculate Technical Indicators: MA, MACD, RSI"
   ]
  },
  {
   "cell_type": "code",
   "execution_count": null,
   "id": "5cbb2e4f",
   "metadata": {},
   "outputs": [],
   "source": [
    "# Moving Averages\n",
    "data['MA50'] = data['Close'].rolling(window=50).mean()\n",
    "data['MA200'] = data['Close'].rolling(window=200).mean()\n",
    "\n",
    "# MACD\n",
    "ema12 = data['Close'].ewm(span=12, adjust=False).mean()\n",
    "ema26 = data['Close'].ewm(span=26, adjust=False).mean()\n",
    "data['MACD'] = ema12 - ema26\n",
    "data['Signal'] = data['MACD'].ewm(span=9, adjust=False).mean()\n",
    "\n",
    "# RSI\n",
    "window = 14\n",
    "delta = data['Close'].diff()\n",
    "gain = delta.clip(lower=0).rolling(window=window).mean()\n",
    "loss = -delta.clip(upper=0).rolling(window=window).mean()\n",
    "RS = gain / loss\n",
    "data['RSI'] = 100 - (100 / (1 + RS))"
   ]
  },
  {
   "cell_type": "markdown",
   "id": "5135bd17",
   "metadata": {},
   "source": [
    "## Generate Buy/Sell Signals"
   ]
  },
  {
   "cell_type": "code",
   "execution_count": null,
   "id": "936cef1f",
   "metadata": {},
   "outputs": [],
   "source": [
    "data['buy_signal'] = ((data['MACD'] > data['Signal']) & (data['MACD'].shift(1) <= data['Signal'].shift(1))) | (data['RSI'] < 30)\n",
    "data['sell_signal'] = ((data['MACD'] < data['Signal']) & (data['MACD'].shift(1) >= data['Signal'].shift(1))) | (data['RSI'] > 70)\n",
    "\n",
    "data['Position'] = 0\n",
    "position = 0\n",
    "for i in range(len(data)):\n",
    "    if position == 0 and data.iloc[i]['buy_signal']:\n",
    "        position = 1\n",
    "    elif position == 1 and data.iloc[i]['sell_signal']:\n",
    "        position = 0\n",
    "    data.iloc[i, data.columns.get_loc('Position')] = position"
   ]
  },
  {
   "cell_type": "markdown",
   "id": "51a4a075",
   "metadata": {},
   "source": [
    "## Backtest Strategy Performance"
   ]
  },
  {
   "cell_type": "code",
   "execution_count": null,
   "id": "75dcd721",
   "metadata": {},
   "outputs": [],
   "source": [
    "data['DailyReturn'] = data['Close'].pct_change()\n",
    "data['StrategyReturn'] = data['DailyReturn'] * data['Position'].shift(1).fillna(0)\n",
    "data['StrategyEquity'] = (1 + data['StrategyReturn']).cumprod()\n",
    "data['BuyHoldEquity'] = (1 + data['DailyReturn']).cumprod()"
   ]
  },
  {
   "cell_type": "markdown",
   "id": "3f16c419",
   "metadata": {},
   "source": [
    "## Evaluate Strategy Metrics"
   ]
  },
  {
   "cell_type": "code",
   "execution_count": null,
   "id": "b80e9e8f",
   "metadata": {},
   "outputs": [],
   "source": [
    "total_days = len(data.dropna())\n",
    "cum_return = data['StrategyEquity'].iloc[-1] - 1\n",
    "annual_return = data['StrategyEquity'].iloc[-1]**(252 / total_days) - 1\n",
    "daily_returns = data['StrategyReturn'].dropna()\n",
    "sharpe_ratio = daily_returns.mean() / daily_returns.std() * np.sqrt(252)\n",
    "roll_max = data['StrategyEquity'].cummax()\n",
    "daily_drawdown = data['StrategyEquity'] / roll_max - 1\n",
    "max_drawdown = daily_drawdown.min()\n",
    "\n",
    "print(f\"Cumulative Return: {cum_return:.2%}\")\n",
    "print(f\"Annualized Return: {annual_return:.2%}\")\n",
    "print(f\"Sharpe Ratio: {sharpe_ratio:.2f}\")\n",
    "print(f\"Max Drawdown: {max_drawdown:.2%}\")"
   ]
  },
  {
   "cell_type": "markdown",
   "id": "124d6df1",
   "metadata": {},
   "source": [
    "## Grid Search: RSI Window and Threshold"
   ]
  },
  {
   "cell_type": "code",
   "execution_count": null,
   "id": "b2a36df6",
   "metadata": {},
   "outputs": [],
   "source": [
    "rsi_windows = [10, 14, 20]\n",
    "oversold_thresholds = [25, 30]\n",
    "best_sharpe = -float('inf')\n",
    "best_params = None\n",
    "\n",
    "for rsi_win in rsi_windows:\n",
    "    for oversold_th in oversold_thresholds:\n",
    "        delta = data['Close'].diff()\n",
    "        gain = delta.clip(lower=0).rolling(window=rsi_win).mean()\n",
    "        loss = -delta.clip(upper=0).rolling(window=rsi_win).mean()\n",
    "        RSI = 100 - (100 / (1 + gain/loss))\n",
    "\n",
    "        buy_signal = ((data['MACD'] > data['Signal']) & (data['MACD'].shift(1) <= data['Signal'].shift(1))) | (RSI < oversold_th)\n",
    "        sell_signal = ((data['MACD'] < data['Signal']) & (data['MACD'].shift(1) >= data['Signal'].shift(1))) | (RSI > 70)\n",
    "\n",
    "        pos = 0\n",
    "        returns = []\n",
    "        for i in range(len(data)):\n",
    "            if pos == 0 and buy_signal.iloc[i]:\n",
    "                pos = 1\n",
    "            elif pos == 1 and sell_signal.iloc[i]:\n",
    "                pos = 0\n",
    "            daily_ret = data['DailyReturn'].iloc[i] * pos\n",
    "            returns.append(daily_ret)\n",
    "\n",
    "        returns = pd.Series(returns).dropna()\n",
    "        if len(returns) > 10:\n",
    "            sharpe = returns.mean()/returns.std() * (252 ** 0.5)\n",
    "            print(f\"RSI window {rsi_win}, Threshold {oversold_th} → Sharpe: {sharpe:.2f}\")\n",
    "            if sharpe > best_sharpe:\n",
    "                best_sharpe = sharpe\n",
    "                best_params = (rsi_win, oversold_th)\n",
    "\n",
    "print(f\"Best Parameters: RSI window {best_params[0]}, Threshold {best_params[1]}, Sharpe: {best_sharpe:.2f}\")"
   ]
  },
  {
   "cell_type": "markdown",
   "id": "6b49a72d",
   "metadata": {},
   "source": [
    "## Plot Equity Curve and Trading Signals"
   ]
  },
  {
   "cell_type": "code",
   "execution_count": null,
   "id": "548c917e",
   "metadata": {},
   "outputs": [],
   "source": [
    "cols_to_fill = ['StrategyEquity', 'BuyHoldEquity', 'Close', 'MA50', 'MA200', 'MACD', 'Signal', 'RSI']\n",
    "data[cols_to_fill] = data[cols_to_fill].fillna(method='bfill').fillna(method='ffill')\n",
    "\n",
    "plt.figure(figsize=(14, 6))\n",
    "plt.plot(data.index, data['StrategyEquity'], label='Strategy Equity', linewidth=2)\n",
    "plt.plot(data.index, data['BuyHoldEquity'], label='Buy & Hold', linestyle='--')\n",
    "plt.title('Strategy vs Buy-and-Hold: Equity Curve')\n",
    "plt.xlabel('Date')\n",
    "plt.ylabel('Cumulative Return')\n",
    "plt.gca().xaxis.set_major_formatter(mdates.DateFormatter('%Y-%m'))\n",
    "plt.gca().xaxis.set_major_locator(mdates.MonthLocator(interval=3))\n",
    "plt.xticks(rotation=45)\n",
    "plt.grid(True)\n",
    "plt.legend()\n",
    "plt.tight_layout()\n",
    "plt.savefig(\"img/equity_curve.png\", dpi=300)\n",
    "plt.show()\n",
    "\n",
    "plt.figure(figsize=(14, 6))\n",
    "plt.plot(data['Close'], label='Close Price', color='blue')\n",
    "plt.plot(data['MA50'], label='MA50', linestyle='--', color='gray')\n",
    "plt.plot(data['MA200'], label='MA200', linestyle='--', color='black')\n",
    "buy_signals = data[data['buy_signal']]\n",
    "sell_signals = data[data['sell_signal']]\n",
    "plt.scatter(buy_signals.index, buy_signals['Close'], label='Buy Signal', marker='^', color='green', s=100)\n",
    "plt.scatter(sell_signals.index, sell_signals['Close'], label='Sell Signal', marker='v', color='red', s=100)\n",
    "plt.title('Trading Signals with Moving Averages')\n",
    "plt.xlabel('Date')\n",
    "plt.ylabel('Price')\n",
    "plt.legend()\n",
    "plt.grid(True)\n",
    "plt.tight_layout()\n",
    "plt.savefig(\"img/signal_chart.png\", dpi=300)\n",
    "plt.show()"
   ]
  }
 ],
 "metadata": {},
 "nbformat": 4,
 "nbformat_minor": 5
}
